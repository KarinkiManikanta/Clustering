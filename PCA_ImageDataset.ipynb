{
 "cells": [
  {
   "cell_type": "code",
   "execution_count": 13,
   "metadata": {},
   "outputs": [],
   "source": [
    "import numpy as np\n",
    "import matplotlib.pyplot as plt\n",
    "import pandas_profiling\n",
    "import pandas as pd\n",
    "import seaborn as sns\n",
    "from sklearn.datasets import fetch_olivetti_faces\n",
    "from sklearn.decomposition import PCA"
   ]
  },
  {
   "cell_type": "code",
   "execution_count": 14,
   "metadata": {},
   "outputs": [],
   "source": [
    "%matplotlib inline\n",
    "from skimage.io import imread\n",
    "from skimage.transform import resize"
   ]
  },
  {
   "cell_type": "code",
   "execution_count": 15,
   "metadata": {},
   "outputs": [],
   "source": [
    "# load image in structure directory like it's sklearn sample dataset\n",
    "def load_image_files(container_path,dimension=(64,64)):\n",
    "\n",
    "    image_dir=Path(container_path)\n",
    "    folders=[directory for directory in image_dir.iterdir() if directory.is_dir()]\n",
    "    categories=[fo.name for fo in folders]\n",
    "    print(categories)\n",
    "    descr = \"\"\"description: image classification \"\"\"\n",
    "\n",
    "    images=[]\n",
    "    flat_data=[]\n",
    "    target=[]\n",
    "    #print(target)\n",
    "\n",
    "    for i, direc in enumerate(folders):\n",
    "        for file in direc.iterdir():\n",
    "            img=imread(file)\n",
    "            #plt.imshow(img)#original images we have to converting image\n",
    "            #plt.show()\n",
    "            img_resized=resize(img,dimension,anti_aliasing=True,mode='reflect')\n",
    "            plt.imshow(img_resized)#after converting the image\n",
    "            #plt.show()\n",
    "            flat_data.append(img_resized.flatten())\n",
    "            images.append(img_resized)\n",
    "            target.append(i)\n",
    "    flat_data=np.array(flat_data)\n",
    "    target=np.array(target)\n",
    "    images=np.array(images)\n",
    "        \n",
    "    return Bunch(data=flat_data,\n",
    "                    target=target,\n",
    "                    target_names=categories,\n",
    "                    images=images,\n",
    "                    DESCR=descr)"
   ]
  },
  {
   "cell_type": "code",
   "execution_count": 20,
   "metadata": {},
   "outputs": [
    {
     "name": "stdout",
     "output_type": "stream",
     "text": [
      "['dog', 'flowers', 'cat']\n"
     ]
    },
    {
     "data": {
      "image/png": "[encoded data removed]",
      "text/plain": [
       "<Figure size 432x288 with 1 Axes>"
      ]
     },
     "metadata": {
      "needs_background": "light"
     },
     "output_type": "display_data"
    }
   ],
   "source": [
    "from pathlib import Path\n",
    "from sklearn.utils import Bunch\n",
    "import skimage\n",
    "image_dataset=load_image_files(\"/home/manikanta/Documents/ML/classification/KNN/image\")"
   ]
  },
  {
   "cell_type": "code",
   "execution_count": 21,
   "metadata": {},
   "outputs": [
    {
     "data": {
      "text/plain": [
       "dict_keys(['data', 'target', 'target_names', 'images', 'DESCR'])"
      ]
     },
     "execution_count": 21,
     "metadata": {},
     "output_type": "execute_result"
    }
   ],
   "source": [
    "image_dataset.keys()"
   ]
  },
  {
   "cell_type": "code",
   "execution_count": 22,
   "metadata": {},
   "outputs": [
    {
     "data": {
      "text/plain": [
       "array([[0.25257353, 0.68002451, 0.6564951 , ..., 0.64770508, 0.6382688 ,\n",
       "        0.5372549 ],\n",
       "       [0.28400735, 0.31145833, 0.14515931, ..., 0.82359069, 0.81047986,\n",
       "        0.75851716],\n",
       "       [0.31244638, 0.20264246, 0.15558364, ..., 0.44339001, 0.30272672,\n",
       "        0.20174632],\n",
       "       ...,\n",
       "       [0.38823529, 0.29803922, 0.27616422, ..., 0.51010838, 0.54240196,\n",
       "        0.52414024],\n",
       "       [0.23921569, 0.21960784, 0.14117647, ..., 0.63137255, 0.59965437,\n",
       "        0.42745098],\n",
       "       [0.22349877, 0.14025735, 0.01568627, ..., 0.05490196, 0.05490196,\n",
       "        0.07058824]])"
      ]
     },
     "execution_count": 22,
     "metadata": {},
     "output_type": "execute_result"
    }
   ],
   "source": [
    "image_dataset.data"
   ]
  },
  {
   "cell_type": "code",
   "execution_count": 23,
   "metadata": {},
   "outputs": [
    {
     "data": {
      "text/plain": [
       "array([0, 0, 0, 0, 0, 0, 0, 0, 0, 0, 0, 0, 0, 0, 0, 0, 0, 0, 0, 0, 0, 0,\n",
       "       0, 0, 0, 0, 0, 0, 0, 0, 0, 0, 0, 0, 0, 0, 0, 0, 0, 0, 0, 0, 0, 0,\n",
       "       0, 0, 0, 0, 0, 0, 1, 1, 1, 1, 1, 1, 1, 1, 1, 1, 1, 1, 1, 1, 1, 1,\n",
       "       1, 1, 1, 1, 1, 1, 1, 1, 1, 1, 1, 1, 1, 1, 1, 1, 1, 1, 1, 1, 1, 1,\n",
       "       1, 1, 1, 1, 1, 1, 1, 1, 1, 1, 1, 1, 1, 1, 1, 1, 1, 1, 1, 1, 1, 1,\n",
       "       1, 1, 1, 1, 1, 1, 1, 1, 1, 1, 1, 1, 1, 1, 1, 1, 1, 1, 1, 1, 1, 1,\n",
       "       1, 1, 1, 2, 2, 2, 2, 2, 2, 2, 2, 2, 2, 2, 2, 2, 2, 2, 2, 2, 2, 2,\n",
       "       2, 2, 2, 2, 2, 2, 2, 2, 2, 2, 2])"
      ]
     },
     "execution_count": 23,
     "metadata": {},
     "output_type": "execute_result"
    }
   ],
   "source": [
    "image_dataset.target"
   ]
  },
  {
   "cell_type": "code",
   "execution_count": 24,
   "metadata": {},
   "outputs": [],
   "source": [
    "df=pd.DataFrame(image_dataset.data)"
   ]
  },
  {
   "cell_type": "code",
   "execution_count": 25,
   "metadata": {},
   "outputs": [
    {
     "data": {
      "text/html": [
       "<div>\n",
       "<style scoped>\n",
       "    .dataframe tbody tr th:only-of-type {\n",
       "        vertical-align: middle;\n",
       "    }\n",
       "\n",
       "    .dataframe tbody tr th {\n",
       "        vertical-align: top;\n",
       "    }\n",
       "\n",
       "    .dataframe thead th {\n",
       "        text-align: right;\n",
       "    }\n",
       "</style>\n",
       "<table border=\"1\" class=\"dataframe\">\n",
       "  <thead>\n",
       "    <tr style=\"text-align: right;\">\n",
       "      <th></th>\n",
       "      <th>0</th>\n",
       "      <th>1</th>\n",
       "      <th>2</th>\n",
       "      <th>3</th>\n",
       "      <th>4</th>\n",
       "      <th>5</th>\n",
       "      <th>6</th>\n",
       "      <th>7</th>\n",
       "      <th>8</th>\n",
       "      <th>9</th>\n",
       "      <th>...</th>\n",
       "      <th>12278</th>\n",
       "      <th>12279</th>\n",
       "      <th>12280</th>\n",
       "      <th>12281</th>\n",
       "      <th>12282</th>\n",
       "      <th>12283</th>\n",
       "      <th>12284</th>\n",
       "      <th>12285</th>\n",
       "      <th>12286</th>\n",
       "      <th>12287</th>\n",
       "    </tr>\n",
       "  </thead>\n",
       "  <tbody>\n",
       "    <tr>\n",
       "      <th>0</th>\n",
       "      <td>0.252574</td>\n",
       "      <td>0.680025</td>\n",
       "      <td>0.656495</td>\n",
       "      <td>0.247619</td>\n",
       "      <td>0.675070</td>\n",
       "      <td>0.651540</td>\n",
       "      <td>0.243137</td>\n",
       "      <td>0.670588</td>\n",
       "      <td>0.650980</td>\n",
       "      <td>0.242433</td>\n",
       "      <td>...</td>\n",
       "      <td>0.580811</td>\n",
       "      <td>0.667631</td>\n",
       "      <td>0.639216</td>\n",
       "      <td>0.564706</td>\n",
       "      <td>0.645680</td>\n",
       "      <td>0.624562</td>\n",
       "      <td>0.553156</td>\n",
       "      <td>0.647705</td>\n",
       "      <td>0.638269</td>\n",
       "      <td>0.537255</td>\n",
       "    </tr>\n",
       "    <tr>\n",
       "      <th>1</th>\n",
       "      <td>0.284007</td>\n",
       "      <td>0.311458</td>\n",
       "      <td>0.145159</td>\n",
       "      <td>0.288787</td>\n",
       "      <td>0.319301</td>\n",
       "      <td>0.135484</td>\n",
       "      <td>0.307466</td>\n",
       "      <td>0.324877</td>\n",
       "      <td>0.155208</td>\n",
       "      <td>0.204460</td>\n",
       "      <td>...</td>\n",
       "      <td>0.744669</td>\n",
       "      <td>0.844740</td>\n",
       "      <td>0.832975</td>\n",
       "      <td>0.793689</td>\n",
       "      <td>0.829963</td>\n",
       "      <td>0.818199</td>\n",
       "      <td>0.771998</td>\n",
       "      <td>0.823591</td>\n",
       "      <td>0.810480</td>\n",
       "      <td>0.758517</td>\n",
       "    </tr>\n",
       "    <tr>\n",
       "      <th>2</th>\n",
       "      <td>0.312446</td>\n",
       "      <td>0.202642</td>\n",
       "      <td>0.155584</td>\n",
       "      <td>0.281457</td>\n",
       "      <td>0.171653</td>\n",
       "      <td>0.124594</td>\n",
       "      <td>0.283035</td>\n",
       "      <td>0.165686</td>\n",
       "      <td>0.122549</td>\n",
       "      <td>0.307927</td>\n",
       "      <td>...</td>\n",
       "      <td>0.155025</td>\n",
       "      <td>0.334344</td>\n",
       "      <td>0.238779</td>\n",
       "      <td>0.171262</td>\n",
       "      <td>0.424502</td>\n",
       "      <td>0.286612</td>\n",
       "      <td>0.207498</td>\n",
       "      <td>0.443390</td>\n",
       "      <td>0.302727</td>\n",
       "      <td>0.201746</td>\n",
       "    </tr>\n",
       "    <tr>\n",
       "      <th>3</th>\n",
       "      <td>0.610815</td>\n",
       "      <td>0.581594</td>\n",
       "      <td>0.506556</td>\n",
       "      <td>0.662511</td>\n",
       "      <td>0.634416</td>\n",
       "      <td>0.549295</td>\n",
       "      <td>0.636155</td>\n",
       "      <td>0.552145</td>\n",
       "      <td>0.519730</td>\n",
       "      <td>0.692310</td>\n",
       "      <td>...</td>\n",
       "      <td>0.914737</td>\n",
       "      <td>0.489152</td>\n",
       "      <td>0.672733</td>\n",
       "      <td>0.859862</td>\n",
       "      <td>0.418045</td>\n",
       "      <td>0.634344</td>\n",
       "      <td>0.805841</td>\n",
       "      <td>0.523138</td>\n",
       "      <td>0.794332</td>\n",
       "      <td>0.922917</td>\n",
       "    </tr>\n",
       "    <tr>\n",
       "      <th>4</th>\n",
       "      <td>0.823190</td>\n",
       "      <td>0.799660</td>\n",
       "      <td>0.815347</td>\n",
       "      <td>0.819608</td>\n",
       "      <td>0.792157</td>\n",
       "      <td>0.808172</td>\n",
       "      <td>0.827451</td>\n",
       "      <td>0.788235</td>\n",
       "      <td>0.809528</td>\n",
       "      <td>0.840545</td>\n",
       "      <td>...</td>\n",
       "      <td>0.451838</td>\n",
       "      <td>0.605576</td>\n",
       "      <td>0.425214</td>\n",
       "      <td>0.448744</td>\n",
       "      <td>0.582843</td>\n",
       "      <td>0.417808</td>\n",
       "      <td>0.437745</td>\n",
       "      <td>0.541174</td>\n",
       "      <td>0.383640</td>\n",
       "      <td>0.403248</td>\n",
       "    </tr>\n",
       "    <tr>\n",
       "      <th>...</th>\n",
       "      <td>...</td>\n",
       "      <td>...</td>\n",
       "      <td>...</td>\n",
       "      <td>...</td>\n",
       "      <td>...</td>\n",
       "      <td>...</td>\n",
       "      <td>...</td>\n",
       "      <td>...</td>\n",
       "      <td>...</td>\n",
       "      <td>...</td>\n",
       "      <td>...</td>\n",
       "      <td>...</td>\n",
       "      <td>...</td>\n",
       "      <td>...</td>\n",
       "      <td>...</td>\n",
       "      <td>...</td>\n",
       "      <td>...</td>\n",
       "      <td>...</td>\n",
       "      <td>...</td>\n",
       "      <td>...</td>\n",
       "      <td>...</td>\n",
       "    </tr>\n",
       "    <tr>\n",
       "      <th>160</th>\n",
       "      <td>0.323100</td>\n",
       "      <td>0.312653</td>\n",
       "      <td>0.206587</td>\n",
       "      <td>0.272120</td>\n",
       "      <td>0.167433</td>\n",
       "      <td>0.146354</td>\n",
       "      <td>0.483333</td>\n",
       "      <td>0.428554</td>\n",
       "      <td>0.426838</td>\n",
       "      <td>0.611152</td>\n",
       "      <td>...</td>\n",
       "      <td>0.375858</td>\n",
       "      <td>0.387469</td>\n",
       "      <td>0.360570</td>\n",
       "      <td>0.377114</td>\n",
       "      <td>0.360325</td>\n",
       "      <td>0.337500</td>\n",
       "      <td>0.344822</td>\n",
       "      <td>0.384314</td>\n",
       "      <td>0.345098</td>\n",
       "      <td>0.357475</td>\n",
       "    </tr>\n",
       "    <tr>\n",
       "      <th>161</th>\n",
       "      <td>0.835189</td>\n",
       "      <td>0.784208</td>\n",
       "      <td>0.721463</td>\n",
       "      <td>0.831373</td>\n",
       "      <td>0.780392</td>\n",
       "      <td>0.717647</td>\n",
       "      <td>0.835294</td>\n",
       "      <td>0.784314</td>\n",
       "      <td>0.721569</td>\n",
       "      <td>0.835294</td>\n",
       "      <td>...</td>\n",
       "      <td>0.997580</td>\n",
       "      <td>0.996078</td>\n",
       "      <td>0.996078</td>\n",
       "      <td>0.996078</td>\n",
       "      <td>0.996078</td>\n",
       "      <td>0.996078</td>\n",
       "      <td>0.996078</td>\n",
       "      <td>0.996078</td>\n",
       "      <td>0.996078</td>\n",
       "      <td>0.996078</td>\n",
       "    </tr>\n",
       "    <tr>\n",
       "      <th>162</th>\n",
       "      <td>0.388235</td>\n",
       "      <td>0.298039</td>\n",
       "      <td>0.276164</td>\n",
       "      <td>0.404779</td>\n",
       "      <td>0.299694</td>\n",
       "      <td>0.283573</td>\n",
       "      <td>0.443260</td>\n",
       "      <td>0.323346</td>\n",
       "      <td>0.313777</td>\n",
       "      <td>0.462132</td>\n",
       "      <td>...</td>\n",
       "      <td>0.250980</td>\n",
       "      <td>0.260068</td>\n",
       "      <td>0.305473</td>\n",
       "      <td>0.309988</td>\n",
       "      <td>0.347922</td>\n",
       "      <td>0.389767</td>\n",
       "      <td>0.370655</td>\n",
       "      <td>0.510108</td>\n",
       "      <td>0.542402</td>\n",
       "      <td>0.524140</td>\n",
       "    </tr>\n",
       "    <tr>\n",
       "      <th>163</th>\n",
       "      <td>0.239216</td>\n",
       "      <td>0.219608</td>\n",
       "      <td>0.141176</td>\n",
       "      <td>0.239216</td>\n",
       "      <td>0.219608</td>\n",
       "      <td>0.141176</td>\n",
       "      <td>0.239216</td>\n",
       "      <td>0.230790</td>\n",
       "      <td>0.148438</td>\n",
       "      <td>0.239216</td>\n",
       "      <td>...</td>\n",
       "      <td>0.380271</td>\n",
       "      <td>0.627328</td>\n",
       "      <td>0.599877</td>\n",
       "      <td>0.395833</td>\n",
       "      <td>0.643137</td>\n",
       "      <td>0.611765</td>\n",
       "      <td>0.418877</td>\n",
       "      <td>0.631373</td>\n",
       "      <td>0.599654</td>\n",
       "      <td>0.427451</td>\n",
       "    </tr>\n",
       "    <tr>\n",
       "      <th>164</th>\n",
       "      <td>0.223499</td>\n",
       "      <td>0.140257</td>\n",
       "      <td>0.015686</td>\n",
       "      <td>0.298039</td>\n",
       "      <td>0.196078</td>\n",
       "      <td>0.011765</td>\n",
       "      <td>0.313725</td>\n",
       "      <td>0.207843</td>\n",
       "      <td>0.003922</td>\n",
       "      <td>0.313725</td>\n",
       "      <td>...</td>\n",
       "      <td>0.082353</td>\n",
       "      <td>0.064448</td>\n",
       "      <td>0.068369</td>\n",
       "      <td>0.087977</td>\n",
       "      <td>0.066667</td>\n",
       "      <td>0.070588</td>\n",
       "      <td>0.090196</td>\n",
       "      <td>0.054902</td>\n",
       "      <td>0.054902</td>\n",
       "      <td>0.070588</td>\n",
       "    </tr>\n",
       "  </tbody>\n",
       "</table>\n",
       "<p>165 rows × 12288 columns</p>\n",
       "</div>"
      ],
      "text/plain": [
       "        0         1         2         3         4         5         6      \\\n",
       "0    0.252574  0.680025  0.656495  0.247619  0.675070  0.651540  0.243137   \n",
       "1    0.284007  0.311458  0.145159  0.288787  0.319301  0.135484  0.307466   \n",
       "2    0.312446  0.202642  0.155584  0.281457  0.171653  0.124594  0.283035   \n",
       "3    0.610815  0.581594  0.506556  0.662511  0.634416  0.549295  0.636155   \n",
       "4    0.823190  0.799660  0.815347  0.819608  0.792157  0.808172  0.827451   \n",
       "..        ...       ...       ...       ...       ...       ...       ...   \n",
       "160  0.323100  0.312653  0.206587  0.272120  0.167433  0.146354  0.483333   \n",
       "161  0.835189  0.784208  0.721463  0.831373  0.780392  0.717647  0.835294   \n",
       "162  0.388235  0.298039  0.276164  0.404779  0.299694  0.283573  0.443260   \n",
       "163  0.239216  0.219608  0.141176  0.239216  0.219608  0.141176  0.239216   \n",
       "164  0.223499  0.140257  0.015686  0.298039  0.196078  0.011765  0.313725   \n",
       "\n",
       "        7         8         9      ...     12278     12279     12280  \\\n",
       "0    0.670588  0.650980  0.242433  ...  0.580811  0.667631  0.639216   \n",
       "1    0.324877  0.155208  0.204460  ...  0.744669  0.844740  0.832975   \n",
       "2    0.165686  0.122549  0.307927  ...  0.155025  0.334344  0.238779   \n",
       "3    0.552145  0.519730  0.692310  ...  0.914737  0.489152  0.672733   \n",
       "4    0.788235  0.809528  0.840545  ...  0.451838  0.605576  0.425214   \n",
       "..        ...       ...       ...  ...       ...       ...       ...   \n",
       "160  0.428554  0.426838  0.611152  ...  0.375858  0.387469  0.360570   \n",
       "161  0.784314  0.721569  0.835294  ...  0.997580  0.996078  0.996078   \n",
       "162  0.323346  0.313777  0.462132  ...  0.250980  0.260068  0.305473   \n",
       "163  0.230790  0.148438  0.239216  ...  0.380271  0.627328  0.599877   \n",
       "164  0.207843  0.003922  0.313725  ...  0.082353  0.064448  0.068369   \n",
       "\n",
       "        12281     12282     12283     12284     12285     12286     12287  \n",
       "0    0.564706  0.645680  0.624562  0.553156  0.647705  0.638269  0.537255  \n",
       "1    0.793689  0.829963  0.818199  0.771998  0.823591  0.810480  0.758517  \n",
       "2    0.171262  0.424502  0.286612  0.207498  0.443390  0.302727  0.201746  \n",
       "3    0.859862  0.418045  0.634344  0.805841  0.523138  0.794332  0.922917  \n",
       "4    0.448744  0.582843  0.417808  0.437745  0.541174  0.383640  0.403248  \n",
       "..        ...       ...       ...       ...       ...       ...       ...  \n",
       "160  0.377114  0.360325  0.337500  0.344822  0.384314  0.345098  0.357475  \n",
       "161  0.996078  0.996078  0.996078  0.996078  0.996078  0.996078  0.996078  \n",
       "162  0.309988  0.347922  0.389767  0.370655  0.510108  0.542402  0.524140  \n",
       "163  0.395833  0.643137  0.611765  0.418877  0.631373  0.599654  0.427451  \n",
       "164  0.087977  0.066667  0.070588  0.090196  0.054902  0.054902  0.070588  \n",
       "\n",
       "[165 rows x 12288 columns]"
      ]
     },
     "execution_count": 25,
     "metadata": {},
     "output_type": "execute_result"
    }
   ],
   "source": [
    "df"
   ]
  },
  {
   "cell_type": "code",
   "execution_count": 26,
   "metadata": {},
   "outputs": [],
   "source": [
    "df['target']=image_dataset.target"
   ]
  },
  {
   "cell_type": "code",
   "execution_count": 27,
   "metadata": {},
   "outputs": [
    {
     "data": {
      "text/html": [
       "<div>\n",
       "<style scoped>\n",
       "    .dataframe tbody tr th:only-of-type {\n",
       "        vertical-align: middle;\n",
       "    }\n",
       "\n",
       "    .dataframe tbody tr th {\n",
       "        vertical-align: top;\n",
       "    }\n",
       "\n",
       "    .dataframe thead th {\n",
       "        text-align: right;\n",
       "    }\n",
       "</style>\n",
       "<table border=\"1\" class=\"dataframe\">\n",
       "  <thead>\n",
       "    <tr style=\"text-align: right;\">\n",
       "      <th></th>\n",
       "      <th>0</th>\n",
       "      <th>1</th>\n",
       "      <th>2</th>\n",
       "      <th>3</th>\n",
       "      <th>4</th>\n",
       "      <th>5</th>\n",
       "      <th>6</th>\n",
       "      <th>7</th>\n",
       "      <th>8</th>\n",
       "      <th>9</th>\n",
       "      <th>...</th>\n",
       "      <th>12279</th>\n",
       "      <th>12280</th>\n",
       "      <th>12281</th>\n",
       "      <th>12282</th>\n",
       "      <th>12283</th>\n",
       "      <th>12284</th>\n",
       "      <th>12285</th>\n",
       "      <th>12286</th>\n",
       "      <th>12287</th>\n",
       "      <th>target</th>\n",
       "    </tr>\n",
       "  </thead>\n",
       "  <tbody>\n",
       "    <tr>\n",
       "      <th>0</th>\n",
       "      <td>0.252574</td>\n",
       "      <td>0.680025</td>\n",
       "      <td>0.656495</td>\n",
       "      <td>0.247619</td>\n",
       "      <td>0.675070</td>\n",
       "      <td>0.651540</td>\n",
       "      <td>0.243137</td>\n",
       "      <td>0.670588</td>\n",
       "      <td>0.650980</td>\n",
       "      <td>0.242433</td>\n",
       "      <td>...</td>\n",
       "      <td>0.667631</td>\n",
       "      <td>0.639216</td>\n",
       "      <td>0.564706</td>\n",
       "      <td>0.645680</td>\n",
       "      <td>0.624562</td>\n",
       "      <td>0.553156</td>\n",
       "      <td>0.647705</td>\n",
       "      <td>0.638269</td>\n",
       "      <td>0.537255</td>\n",
       "      <td>0</td>\n",
       "    </tr>\n",
       "    <tr>\n",
       "      <th>1</th>\n",
       "      <td>0.284007</td>\n",
       "      <td>0.311458</td>\n",
       "      <td>0.145159</td>\n",
       "      <td>0.288787</td>\n",
       "      <td>0.319301</td>\n",
       "      <td>0.135484</td>\n",
       "      <td>0.307466</td>\n",
       "      <td>0.324877</td>\n",
       "      <td>0.155208</td>\n",
       "      <td>0.204460</td>\n",
       "      <td>...</td>\n",
       "      <td>0.844740</td>\n",
       "      <td>0.832975</td>\n",
       "      <td>0.793689</td>\n",
       "      <td>0.829963</td>\n",
       "      <td>0.818199</td>\n",
       "      <td>0.771998</td>\n",
       "      <td>0.823591</td>\n",
       "      <td>0.810480</td>\n",
       "      <td>0.758517</td>\n",
       "      <td>0</td>\n",
       "    </tr>\n",
       "    <tr>\n",
       "      <th>2</th>\n",
       "      <td>0.312446</td>\n",
       "      <td>0.202642</td>\n",
       "      <td>0.155584</td>\n",
       "      <td>0.281457</td>\n",
       "      <td>0.171653</td>\n",
       "      <td>0.124594</td>\n",
       "      <td>0.283035</td>\n",
       "      <td>0.165686</td>\n",
       "      <td>0.122549</td>\n",
       "      <td>0.307927</td>\n",
       "      <td>...</td>\n",
       "      <td>0.334344</td>\n",
       "      <td>0.238779</td>\n",
       "      <td>0.171262</td>\n",
       "      <td>0.424502</td>\n",
       "      <td>0.286612</td>\n",
       "      <td>0.207498</td>\n",
       "      <td>0.443390</td>\n",
       "      <td>0.302727</td>\n",
       "      <td>0.201746</td>\n",
       "      <td>0</td>\n",
       "    </tr>\n",
       "    <tr>\n",
       "      <th>3</th>\n",
       "      <td>0.610815</td>\n",
       "      <td>0.581594</td>\n",
       "      <td>0.506556</td>\n",
       "      <td>0.662511</td>\n",
       "      <td>0.634416</td>\n",
       "      <td>0.549295</td>\n",
       "      <td>0.636155</td>\n",
       "      <td>0.552145</td>\n",
       "      <td>0.519730</td>\n",
       "      <td>0.692310</td>\n",
       "      <td>...</td>\n",
       "      <td>0.489152</td>\n",
       "      <td>0.672733</td>\n",
       "      <td>0.859862</td>\n",
       "      <td>0.418045</td>\n",
       "      <td>0.634344</td>\n",
       "      <td>0.805841</td>\n",
       "      <td>0.523138</td>\n",
       "      <td>0.794332</td>\n",
       "      <td>0.922917</td>\n",
       "      <td>0</td>\n",
       "    </tr>\n",
       "    <tr>\n",
       "      <th>4</th>\n",
       "      <td>0.823190</td>\n",
       "      <td>0.799660</td>\n",
       "      <td>0.815347</td>\n",
       "      <td>0.819608</td>\n",
       "      <td>0.792157</td>\n",
       "      <td>0.808172</td>\n",
       "      <td>0.827451</td>\n",
       "      <td>0.788235</td>\n",
       "      <td>0.809528</td>\n",
       "      <td>0.840545</td>\n",
       "      <td>...</td>\n",
       "      <td>0.605576</td>\n",
       "      <td>0.425214</td>\n",
       "      <td>0.448744</td>\n",
       "      <td>0.582843</td>\n",
       "      <td>0.417808</td>\n",
       "      <td>0.437745</td>\n",
       "      <td>0.541174</td>\n",
       "      <td>0.383640</td>\n",
       "      <td>0.403248</td>\n",
       "      <td>0</td>\n",
       "    </tr>\n",
       "  </tbody>\n",
       "</table>\n",
       "<p>5 rows × 12289 columns</p>\n",
       "</div>"
      ],
      "text/plain": [
       "          0         1         2         3         4         5         6  \\\n",
       "0  0.252574  0.680025  0.656495  0.247619  0.675070  0.651540  0.243137   \n",
       "1  0.284007  0.311458  0.145159  0.288787  0.319301  0.135484  0.307466   \n",
       "2  0.312446  0.202642  0.155584  0.281457  0.171653  0.124594  0.283035   \n",
       "3  0.610815  0.581594  0.506556  0.662511  0.634416  0.549295  0.636155   \n",
       "4  0.823190  0.799660  0.815347  0.819608  0.792157  0.808172  0.827451   \n",
       "\n",
       "          7         8         9  ...     12279     12280     12281     12282  \\\n",
       "0  0.670588  0.650980  0.242433  ...  0.667631  0.639216  0.564706  0.645680   \n",
       "1  0.324877  0.155208  0.204460  ...  0.844740  0.832975  0.793689  0.829963   \n",
       "2  0.165686  0.122549  0.307927  ...  0.334344  0.238779  0.171262  0.424502   \n",
       "3  0.552145  0.519730  0.692310  ...  0.489152  0.672733  0.859862  0.418045   \n",
       "4  0.788235  0.809528  0.840545  ...  0.605576  0.425214  0.448744  0.582843   \n",
       "\n",
       "      12283     12284     12285     12286     12287  target  \n",
       "0  0.624562  0.553156  0.647705  0.638269  0.537255       0  \n",
       "1  0.818199  0.771998  0.823591  0.810480  0.758517       0  \n",
       "2  0.286612  0.207498  0.443390  0.302727  0.201746       0  \n",
       "3  0.634344  0.805841  0.523138  0.794332  0.922917       0  \n",
       "4  0.417808  0.437745  0.541174  0.383640  0.403248       0  \n",
       "\n",
       "[5 rows x 12289 columns]"
      ]
     },
     "execution_count": 27,
     "metadata": {},
     "output_type": "execute_result"
    }
   ],
   "source": [
    "df.head()"
   ]
  },
  {
   "cell_type": "code",
   "execution_count": 28,
   "metadata": {},
   "outputs": [
    {
     "data": {
      "text/plain": [
       "<matplotlib.image.AxesImage at 0x7f536de11b00>"
      ]
     },
     "execution_count": 28,
     "metadata": {},
     "output_type": "execute_result"
    },
    {
     "data": {
      "image/png": "[encoded data removed]",
      "text/plain": [
       "<Figure size 432x288 with 1 Axes>"
      ]
     },
     "metadata": {
      "needs_background": "light"
     },
     "output_type": "display_data"
    }
   ],
   "source": [
    "plt.imshow(image_dataset.images[0])"
   ]
  },
  {
   "cell_type": "code",
   "execution_count": 29,
   "metadata": {},
   "outputs": [
    {
     "data": {
      "text/plain": [
       "(64, 64, 3)"
      ]
     },
     "execution_count": 29,
     "metadata": {},
     "output_type": "execute_result"
    }
   ],
   "source": [
    "image_dataset.images[0].shape"
   ]
  },
  {
   "cell_type": "code",
   "execution_count": 30,
   "metadata": {},
   "outputs": [
    {
     "data": {
      "text/plain": [
       "(165, 12288)"
      ]
     },
     "execution_count": 30,
     "metadata": {},
     "output_type": "execute_result"
    }
   ],
   "source": [
    "image_dataset.data.shape"
   ]
  },
  {
   "cell_type": "code",
   "execution_count": 32,
   "metadata": {},
   "outputs": [],
   "source": [
    "#n_componet=0.80 it will return the eigen vectors that have 80% variance in the datasetf\n",
    "img_pca=PCA(n_components=0.8)"
   ]
  },
  {
   "cell_type": "code",
   "execution_count": 33,
   "metadata": {},
   "outputs": [
    {
     "data": {
      "text/plain": [
       "PCA(copy=True, iterated_power='auto', n_components=0.8, random_state=None,\n",
       "    svd_solver='auto', tol=0.0, whiten=False)"
      ]
     },
     "execution_count": 33,
     "metadata": {},
     "output_type": "execute_result"
    }
   ],
   "source": [
    "img_pca.fit(image_dataset.data)"
   ]
  },
  {
   "cell_type": "code",
   "execution_count": 34,
   "metadata": {},
   "outputs": [
    {
     "data": {
      "text/plain": [
       "(27, 12288)"
      ]
     },
     "execution_count": 34,
     "metadata": {},
     "output_type": "execute_result"
    }
   ],
   "source": [
    "img_pca.components_.shape"
   ]
  },
  {
   "cell_type": "code",
   "execution_count": 35,
   "metadata": {},
   "outputs": [
    {
     "data": {
      "text/plain": [
       "(165, 27)"
      ]
     },
     "execution_count": 35,
     "metadata": {},
     "output_type": "execute_result"
    }
   ],
   "source": [
    "componets=img_pca.transform(image_dataset.data)\n",
    "componets.shape"
   ]
  },
  {
   "cell_type": "code",
   "execution_count": 36,
   "metadata": {},
   "outputs": [
    {
     "data": {
      "text/plain": [
       "array([[  4.21592176,  -7.47210889,  -7.41311109, ...,   0.09261078,\n",
       "         -2.09855077,   2.51107099],\n",
       "       [ 13.55414031, -16.71434169,  -1.09160407, ...,   1.86521205,\n",
       "          1.53683734,  -0.40664008],\n",
       "       [-20.52127221,   9.39365749,  -4.17304004, ...,   1.38279714,\n",
       "          1.10100835,  -1.73638848],\n",
       "       ...,\n",
       "       [  9.23887709,  -3.26257416,  -6.24488619, ...,   0.84338647,\n",
       "          4.36656176,  -1.99268481],\n",
       "       [ -4.65253257, -15.02720171,   9.03239405, ...,   0.5522416 ,\n",
       "         -0.58443848,   1.19722982],\n",
       "       [-14.10732395,  -5.70572405,  -5.39311173, ...,  -0.32201177,\n",
       "          1.5400608 ,   3.21106326]])"
      ]
     },
     "execution_count": 36,
     "metadata": {},
     "output_type": "execute_result"
    }
   ],
   "source": [
    "componets"
   ]
  },
  {
   "cell_type": "code",
   "execution_count": 37,
   "metadata": {},
   "outputs": [
    {
     "data": {
      "text/plain": [
       "(165, 12288)"
      ]
     },
     "execution_count": 37,
     "metadata": {},
     "output_type": "execute_result"
    }
   ],
   "source": [
    "projection=img_pca.inverse_transform(componets)\n",
    "projection.shape"
   ]
  },
  {
   "cell_type": "code",
   "execution_count": 42,
   "metadata": {},
   "outputs": [
    {
     "name": "stderr",
     "output_type": "stream",
     "text": [
      "Clipping input data to the valid range for imshow with RGB data ([0..1] for floats or [0..255] for integers).\n",
      "Clipping input data to the valid range for imshow with RGB data ([0..1] for floats or [0..255] for integers).\n",
      "Clipping input data to the valid range for imshow with RGB data ([0..1] for floats or [0..255] for integers).\n",
      "Clipping input data to the valid range for imshow with RGB data ([0..1] for floats or [0..255] for integers).\n",
      "Clipping input data to the valid range for imshow with RGB data ([0..1] for floats or [0..255] for integers).\n",
      "Clipping input data to the valid range for imshow with RGB data ([0..1] for floats or [0..255] for integers).\n",
      "Clipping input data to the valid range for imshow with RGB data ([0..1] for floats or [0..255] for integers).\n",
      "Clipping input data to the valid range for imshow with RGB data ([0..1] for floats or [0..255] for integers).\n",
      "Clipping input data to the valid range for imshow with RGB data ([0..1] for floats or [0..255] for integers).\n",
      "Clipping input data to the valid range for imshow with RGB data ([0..1] for floats or [0..255] for integers).\n",
      "Clipping input data to the valid range for imshow with RGB data ([0..1] for floats or [0..255] for integers).\n",
      "Clipping input data to the valid range for imshow with RGB data ([0..1] for floats or [0..255] for integers).\n",
      "Clipping input data to the valid range for imshow with RGB data ([0..1] for floats or [0..255] for integers).\n",
      "Clipping input data to the valid range for imshow with RGB data ([0..1] for floats or [0..255] for integers).\n",
      "Clipping input data to the valid range for imshow with RGB data ([0..1] for floats or [0..255] for integers).\n",
      "Clipping input data to the valid range for imshow with RGB data ([0..1] for floats or [0..255] for integers).\n",
      "Clipping input data to the valid range for imshow with RGB data ([0..1] for floats or [0..255] for integers).\n",
      "Clipping input data to the valid range for imshow with RGB data ([0..1] for floats or [0..255] for integers).\n",
      "Clipping input data to the valid range for imshow with RGB data ([0..1] for floats or [0..255] for integers).\n",
      "Clipping input data to the valid range for imshow with RGB data ([0..1] for floats or [0..255] for integers).\n"
     ]
    },
    {
     "data": {
      "image/png": "[encoded data removed]",
      "text/plain": [
       "<Figure size 648x216 with 20 Axes>"
      ]
     },
     "metadata": {},
     "output_type": "display_data"
    }
   ],
   "source": [
    "fig,axes=plt.subplots(2,10,\n",
    "                     figsize=(9,3),subplot_kw={'xticks':[],'yticks':[]},\n",
    "                    gridspec_kw=dict(hspace=0.01,wspace=0.01))\n",
    "for i,ax in enumerate(axes.flat):\n",
    "    ax.imshow(img_pca.components_[i].reshape(64,64,3))"
   ]
  },
  {
   "cell_type": "code",
   "execution_count": null,
   "metadata": {},
   "outputs": [],
   "source": []
  }
 ],
 "metadata": {
  "kernelspec": {
   "display_name": "Python 3",
   "language": "python",
   "name": "python3"
  },
  "language_info": {
   "codemirror_mode": {
    "name": "ipython",
    "version": 3
   },
   "file_extension": ".py",
   "mimetype": "text/x-python",
   "name": "python",
   "nbconvert_exporter": "python",
   "pygments_lexer": "ipython3",
   "version": "3.6.9"
  }
 },
 "nbformat": 4,
 "nbformat_minor": 4
}
