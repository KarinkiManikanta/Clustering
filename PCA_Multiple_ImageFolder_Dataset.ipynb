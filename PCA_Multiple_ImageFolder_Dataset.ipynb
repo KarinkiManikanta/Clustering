{
 "cells": [
  {
   "cell_type": "code",
   "execution_count": 1,
   "metadata": {},
   "outputs": [],
   "source": [
    "import numpy as np\n",
    "import matplotlib.pyplot as plt\n",
    "import pandas_profiling\n",
    "import pandas as pd\n",
    "import seaborn as sns\n",
    "from sklearn.datasets import fetch_olivetti_faces\n",
    "from sklearn.decomposition import PCA\n",
    "%matplotlib inline\n",
    "from skimage.io import imread\n",
    "from skimage.transform import resize"
   ]
  },
  {
   "cell_type": "code",
   "execution_count": 2,
   "metadata": {},
   "outputs": [],
   "source": [
    "# load image in structure directory like it's sklearn sample dataset\n",
    "def load_image_files(container_path,dimension=(64,64)):\n",
    "\n",
    "    image_dir=Path(container_path)\n",
    "    folders=[directory for directory in image_dir.iterdir() if directory.is_dir()]\n",
    "    categories=[fo.name for fo in folders]\n",
    "    print(categories)\n",
    "    descr = \"\"\"description: image classification \"\"\"\n",
    "\n",
    "    images=[]\n",
    "    flat_data=[]\n",
    "    target=[]\n",
    "    #print(target)\n",
    "\n",
    "    for i, direc in enumerate(folders):\n",
    "        for file in direc.iterdir():\n",
    "            img=imread(file)\n",
    "            #plt.imshow(img)#original images we have to converting image\n",
    "            #plt.show()\n",
    "            img_resized=resize(img,dimension,anti_aliasing=True,mode='reflect')\n",
    "            plt.imshow(img_resized)#after converting the image\n",
    "            #plt.show()\n",
    "            flat_data.append(img_resized.flatten())\n",
    "            images.append(img_resized)\n",
    "            target.append(i)\n",
    "    flat_data=np.array(flat_data)\n",
    "    target=np.array(target)\n",
    "    images=np.array(images)\n",
    "        \n",
    "    return Bunch(data=flat_data,\n",
    "                    target=target,\n",
    "                    target_names=categories,\n",
    "                    images=images,\n",
    "                    DESCR=descr)"
   ]
  },
  {
   "cell_type": "code",
   "execution_count": 4,
   "metadata": {},
   "outputs": [
    {
     "name": "stdout",
     "output_type": "stream",
     "text": [
      "['vechiles', 'cricket', 'flowers', 'fruits', 'smile', 'angry', 'sad', 'heros']\n"
     ]
    },
    {
     "data": {
      "image/png": "[encoded data removed]",
      "text/plain": [
       "<Figure size 432x288 with 1 Axes>"
      ]
     },
     "metadata": {
      "needs_background": "light"
     },
     "output_type": "display_data"
    }
   ],
   "source": [
    "from pathlib import Path\n",
    "from sklearn.utils import Bunch\n",
    "import skimage\n",
    "#from PIL import Image\n",
    "image_dataset=load_image_files(\"/home/manikanta/Documents/ML/classification/KNN/Image_dataset/\")"
   ]
  },
  {
   "cell_type": "code",
   "execution_count": 5,
   "metadata": {},
   "outputs": [
    {
     "data": {
      "text/plain": [
       "dict_keys(['data', 'target', 'target_names', 'images', 'DESCR'])"
      ]
     },
     "execution_count": 5,
     "metadata": {},
     "output_type": "execute_result"
    }
   ],
   "source": [
    "image_dataset.keys()"
   ]
  },
  {
   "cell_type": "code",
   "execution_count": 6,
   "metadata": {},
   "outputs": [
    {
     "data": {
      "text/plain": [
       "array([[0.56816789, 0.55785463, 0.27305836, ..., 0.16636029, 0.20165441,\n",
       "        0.24136029],\n",
       "       [0.15686275, 0.1807598 , 0.06666667, ..., 0.44705882, 0.45490196,\n",
       "        0.45098039],\n",
       "       [0.99607843, 0.99607843, 0.99607843, ..., 0.99607843, 0.99607843,\n",
       "        0.99607843],\n",
       "       ...,\n",
       "       [0.31372549, 0.33333333, 0.25490196, ..., 0.19779412, 0.23529412,\n",
       "        0.14117647],\n",
       "       [0.83492647, 0.8310049 , 0.74865196, ..., 0.84309896, 0.87054994,\n",
       "        0.80780484],\n",
       "       [0.70980392, 0.60784314, 0.07647059, ..., 0.37058824, 0.24603248,\n",
       "        0.19607843]])"
      ]
     },
     "execution_count": 6,
     "metadata": {},
     "output_type": "execute_result"
    }
   ],
   "source": [
    "image_dataset.data"
   ]
  },
  {
   "cell_type": "code",
   "execution_count": 7,
   "metadata": {},
   "outputs": [
    {
     "data": {
      "text/plain": [
       "array([0, 0, 0, 0, 0, 0, 0, 0, 0, 0, 0, 0, 0, 0, 0, 1, 1, 1, 1, 1, 1, 1,\n",
       "       1, 1, 1, 1, 1, 1, 1, 1, 1, 1, 1, 1, 1, 1, 1, 1, 1, 1, 1, 1, 1, 1,\n",
       "       2, 2, 2, 2, 2, 2, 2, 2, 2, 2, 2, 2, 2, 2, 2, 2, 2, 2, 2, 2, 2, 2,\n",
       "       2, 2, 2, 2, 2, 2, 2, 2, 2, 2, 2, 2, 2, 2, 2, 2, 2, 2, 2, 2, 2, 2,\n",
       "       2, 2, 2, 2, 2, 2, 2, 2, 2, 2, 2, 2, 2, 2, 2, 2, 2, 2, 2, 2, 2, 2,\n",
       "       2, 2, 2, 2, 2, 2, 2, 2, 2, 2, 2, 2, 2, 2, 2, 2, 2, 2, 2, 3, 3, 3,\n",
       "       3, 3, 3, 3, 3, 3, 3, 3, 3, 3, 3, 3, 3, 3, 3, 3, 3, 3, 3, 3, 3, 3,\n",
       "       3, 4, 4, 4, 4, 4, 4, 4, 4, 4, 4, 4, 4, 4, 4, 4, 4, 4, 4, 4, 4, 4,\n",
       "       5, 5, 5, 5, 5, 5, 5, 5, 5, 5, 5, 5, 5, 5, 5, 5, 5, 5, 5, 5, 5, 5,\n",
       "       5, 5, 5, 5, 5, 6, 6, 6, 6, 6, 6, 6, 6, 6, 6, 6, 6, 6, 6, 6, 6, 6,\n",
       "       6, 6, 6, 6, 6, 6, 6, 6, 6, 7, 7, 7, 7, 7, 7, 7, 7, 7, 7, 7, 7, 7,\n",
       "       7, 7, 7, 7, 7, 7, 7, 7, 7, 7, 7, 7, 7])"
      ]
     },
     "execution_count": 7,
     "metadata": {},
     "output_type": "execute_result"
    }
   ],
   "source": [
    "image_dataset.target"
   ]
  },
  {
   "cell_type": "code",
   "execution_count": 8,
   "metadata": {},
   "outputs": [],
   "source": [
    "df=pd.DataFrame(image_dataset.data)"
   ]
  },
  {
   "cell_type": "code",
   "execution_count": 9,
   "metadata": {},
   "outputs": [
    {
     "data": {
      "text/html": [
       "<div>\n",
       "<style scoped>\n",
       "    .dataframe tbody tr th:only-of-type {\n",
       "        vertical-align: middle;\n",
       "    }\n",
       "\n",
       "    .dataframe tbody tr th {\n",
       "        vertical-align: top;\n",
       "    }\n",
       "\n",
       "    .dataframe thead th {\n",
       "        text-align: right;\n",
       "    }\n",
       "</style>\n",
       "<table border=\"1\" class=\"dataframe\">\n",
       "  <thead>\n",
       "    <tr style=\"text-align: right;\">\n",
       "      <th></th>\n",
       "      <th>0</th>\n",
       "      <th>1</th>\n",
       "      <th>2</th>\n",
       "      <th>3</th>\n",
       "      <th>4</th>\n",
       "      <th>5</th>\n",
       "      <th>6</th>\n",
       "      <th>7</th>\n",
       "      <th>8</th>\n",
       "      <th>9</th>\n",
       "      <th>...</th>\n",
       "      <th>12278</th>\n",
       "      <th>12279</th>\n",
       "      <th>12280</th>\n",
       "      <th>12281</th>\n",
       "      <th>12282</th>\n",
       "      <th>12283</th>\n",
       "      <th>12284</th>\n",
       "      <th>12285</th>\n",
       "      <th>12286</th>\n",
       "      <th>12287</th>\n",
       "    </tr>\n",
       "  </thead>\n",
       "  <tbody>\n",
       "    <tr>\n",
       "      <th>0</th>\n",
       "      <td>0.568168</td>\n",
       "      <td>0.557855</td>\n",
       "      <td>0.273058</td>\n",
       "      <td>0.547239</td>\n",
       "      <td>0.540200</td>\n",
       "      <td>0.271906</td>\n",
       "      <td>0.506036</td>\n",
       "      <td>0.495247</td>\n",
       "      <td>0.277114</td>\n",
       "      <td>0.486439</td>\n",
       "      <td>...</td>\n",
       "      <td>0.304596</td>\n",
       "      <td>0.165686</td>\n",
       "      <td>0.236769</td>\n",
       "      <td>0.279906</td>\n",
       "      <td>0.104255</td>\n",
       "      <td>0.161945</td>\n",
       "      <td>0.214553</td>\n",
       "      <td>0.166360</td>\n",
       "      <td>0.201654</td>\n",
       "      <td>0.241360</td>\n",
       "    </tr>\n",
       "    <tr>\n",
       "      <th>1</th>\n",
       "      <td>0.156863</td>\n",
       "      <td>0.180760</td>\n",
       "      <td>0.066667</td>\n",
       "      <td>0.184314</td>\n",
       "      <td>0.227819</td>\n",
       "      <td>0.054902</td>\n",
       "      <td>0.200000</td>\n",
       "      <td>0.247059</td>\n",
       "      <td>0.063113</td>\n",
       "      <td>0.208211</td>\n",
       "      <td>...</td>\n",
       "      <td>0.474142</td>\n",
       "      <td>0.439216</td>\n",
       "      <td>0.439216</td>\n",
       "      <td>0.438848</td>\n",
       "      <td>0.435294</td>\n",
       "      <td>0.443137</td>\n",
       "      <td>0.439216</td>\n",
       "      <td>0.447059</td>\n",
       "      <td>0.454902</td>\n",
       "      <td>0.450980</td>\n",
       "    </tr>\n",
       "    <tr>\n",
       "      <th>2</th>\n",
       "      <td>0.996078</td>\n",
       "      <td>0.996078</td>\n",
       "      <td>0.996078</td>\n",
       "      <td>0.996078</td>\n",
       "      <td>0.996078</td>\n",
       "      <td>0.996078</td>\n",
       "      <td>0.996078</td>\n",
       "      <td>0.996078</td>\n",
       "      <td>0.996078</td>\n",
       "      <td>0.996078</td>\n",
       "      <td>...</td>\n",
       "      <td>0.996078</td>\n",
       "      <td>0.996078</td>\n",
       "      <td>0.996078</td>\n",
       "      <td>0.996078</td>\n",
       "      <td>0.996078</td>\n",
       "      <td>0.996078</td>\n",
       "      <td>0.996078</td>\n",
       "      <td>0.996078</td>\n",
       "      <td>0.996078</td>\n",
       "      <td>0.996078</td>\n",
       "    </tr>\n",
       "    <tr>\n",
       "      <th>3</th>\n",
       "      <td>0.998529</td>\n",
       "      <td>0.998529</td>\n",
       "      <td>0.998529</td>\n",
       "      <td>0.998529</td>\n",
       "      <td>0.998529</td>\n",
       "      <td>0.998529</td>\n",
       "      <td>0.998529</td>\n",
       "      <td>0.998529</td>\n",
       "      <td>0.998529</td>\n",
       "      <td>0.998529</td>\n",
       "      <td>...</td>\n",
       "      <td>0.998529</td>\n",
       "      <td>0.998529</td>\n",
       "      <td>0.998529</td>\n",
       "      <td>0.998529</td>\n",
       "      <td>0.998529</td>\n",
       "      <td>0.998529</td>\n",
       "      <td>0.998529</td>\n",
       "      <td>0.998529</td>\n",
       "      <td>0.998529</td>\n",
       "      <td>0.998529</td>\n",
       "    </tr>\n",
       "    <tr>\n",
       "      <th>4</th>\n",
       "      <td>1.000000</td>\n",
       "      <td>1.000000</td>\n",
       "      <td>1.000000</td>\n",
       "      <td>1.000000</td>\n",
       "      <td>1.000000</td>\n",
       "      <td>1.000000</td>\n",
       "      <td>1.000000</td>\n",
       "      <td>1.000000</td>\n",
       "      <td>1.000000</td>\n",
       "      <td>1.000000</td>\n",
       "      <td>...</td>\n",
       "      <td>1.000000</td>\n",
       "      <td>1.000000</td>\n",
       "      <td>1.000000</td>\n",
       "      <td>1.000000</td>\n",
       "      <td>1.000000</td>\n",
       "      <td>1.000000</td>\n",
       "      <td>1.000000</td>\n",
       "      <td>1.000000</td>\n",
       "      <td>1.000000</td>\n",
       "      <td>1.000000</td>\n",
       "    </tr>\n",
       "    <tr>\n",
       "      <th>...</th>\n",
       "      <td>...</td>\n",
       "      <td>...</td>\n",
       "      <td>...</td>\n",
       "      <td>...</td>\n",
       "      <td>...</td>\n",
       "      <td>...</td>\n",
       "      <td>...</td>\n",
       "      <td>...</td>\n",
       "      <td>...</td>\n",
       "      <td>...</td>\n",
       "      <td>...</td>\n",
       "      <td>...</td>\n",
       "      <td>...</td>\n",
       "      <td>...</td>\n",
       "      <td>...</td>\n",
       "      <td>...</td>\n",
       "      <td>...</td>\n",
       "      <td>...</td>\n",
       "      <td>...</td>\n",
       "      <td>...</td>\n",
       "      <td>...</td>\n",
       "    </tr>\n",
       "    <tr>\n",
       "      <th>250</th>\n",
       "      <td>0.854902</td>\n",
       "      <td>0.745098</td>\n",
       "      <td>0.741176</td>\n",
       "      <td>0.850980</td>\n",
       "      <td>0.741176</td>\n",
       "      <td>0.733333</td>\n",
       "      <td>0.831373</td>\n",
       "      <td>0.712868</td>\n",
       "      <td>0.693260</td>\n",
       "      <td>0.815686</td>\n",
       "      <td>...</td>\n",
       "      <td>0.521936</td>\n",
       "      <td>0.406985</td>\n",
       "      <td>0.383456</td>\n",
       "      <td>0.583456</td>\n",
       "      <td>0.480270</td>\n",
       "      <td>0.443137</td>\n",
       "      <td>0.631373</td>\n",
       "      <td>0.383088</td>\n",
       "      <td>0.339951</td>\n",
       "      <td>0.456373</td>\n",
       "    </tr>\n",
       "    <tr>\n",
       "      <th>251</th>\n",
       "      <td>0.062745</td>\n",
       "      <td>0.066667</td>\n",
       "      <td>0.074510</td>\n",
       "      <td>0.066667</td>\n",
       "      <td>0.070588</td>\n",
       "      <td>0.075643</td>\n",
       "      <td>0.061485</td>\n",
       "      <td>0.074510</td>\n",
       "      <td>0.086275</td>\n",
       "      <td>0.062745</td>\n",
       "      <td>...</td>\n",
       "      <td>0.105092</td>\n",
       "      <td>0.093321</td>\n",
       "      <td>0.089400</td>\n",
       "      <td>0.090196</td>\n",
       "      <td>0.117647</td>\n",
       "      <td>0.097243</td>\n",
       "      <td>0.097243</td>\n",
       "      <td>0.091881</td>\n",
       "      <td>0.083696</td>\n",
       "      <td>0.081899</td>\n",
       "    </tr>\n",
       "    <tr>\n",
       "      <th>252</th>\n",
       "      <td>0.313725</td>\n",
       "      <td>0.333333</td>\n",
       "      <td>0.254902</td>\n",
       "      <td>0.309804</td>\n",
       "      <td>0.333333</td>\n",
       "      <td>0.247059</td>\n",
       "      <td>0.300245</td>\n",
       "      <td>0.337745</td>\n",
       "      <td>0.231373</td>\n",
       "      <td>0.274755</td>\n",
       "      <td>...</td>\n",
       "      <td>0.431373</td>\n",
       "      <td>0.907353</td>\n",
       "      <td>0.760784</td>\n",
       "      <td>0.435294</td>\n",
       "      <td>0.404902</td>\n",
       "      <td>0.397549</td>\n",
       "      <td>0.232843</td>\n",
       "      <td>0.197794</td>\n",
       "      <td>0.235294</td>\n",
       "      <td>0.141176</td>\n",
       "    </tr>\n",
       "    <tr>\n",
       "      <th>253</th>\n",
       "      <td>0.834926</td>\n",
       "      <td>0.831005</td>\n",
       "      <td>0.748652</td>\n",
       "      <td>0.843260</td>\n",
       "      <td>0.839338</td>\n",
       "      <td>0.756985</td>\n",
       "      <td>0.850368</td>\n",
       "      <td>0.846446</td>\n",
       "      <td>0.764093</td>\n",
       "      <td>0.854557</td>\n",
       "      <td>...</td>\n",
       "      <td>0.786520</td>\n",
       "      <td>0.835294</td>\n",
       "      <td>0.857598</td>\n",
       "      <td>0.798162</td>\n",
       "      <td>0.839216</td>\n",
       "      <td>0.866552</td>\n",
       "      <td>0.803807</td>\n",
       "      <td>0.843099</td>\n",
       "      <td>0.870550</td>\n",
       "      <td>0.807805</td>\n",
       "    </tr>\n",
       "    <tr>\n",
       "      <th>254</th>\n",
       "      <td>0.709804</td>\n",
       "      <td>0.607843</td>\n",
       "      <td>0.076471</td>\n",
       "      <td>0.709804</td>\n",
       "      <td>0.607843</td>\n",
       "      <td>0.076471</td>\n",
       "      <td>0.705882</td>\n",
       "      <td>0.611765</td>\n",
       "      <td>0.078431</td>\n",
       "      <td>0.709804</td>\n",
       "      <td>...</td>\n",
       "      <td>0.222227</td>\n",
       "      <td>0.376471</td>\n",
       "      <td>0.261535</td>\n",
       "      <td>0.214476</td>\n",
       "      <td>0.369470</td>\n",
       "      <td>0.255744</td>\n",
       "      <td>0.203922</td>\n",
       "      <td>0.370588</td>\n",
       "      <td>0.246032</td>\n",
       "      <td>0.196078</td>\n",
       "    </tr>\n",
       "  </tbody>\n",
       "</table>\n",
       "<p>255 rows × 12288 columns</p>\n",
       "</div>"
      ],
      "text/plain": [
       "        0         1         2         3         4         5         6      \\\n",
       "0    0.568168  0.557855  0.273058  0.547239  0.540200  0.271906  0.506036   \n",
       "1    0.156863  0.180760  0.066667  0.184314  0.227819  0.054902  0.200000   \n",
       "2    0.996078  0.996078  0.996078  0.996078  0.996078  0.996078  0.996078   \n",
       "3    0.998529  0.998529  0.998529  0.998529  0.998529  0.998529  0.998529   \n",
       "4    1.000000  1.000000  1.000000  1.000000  1.000000  1.000000  1.000000   \n",
       "..        ...       ...       ...       ...       ...       ...       ...   \n",
       "250  0.854902  0.745098  0.741176  0.850980  0.741176  0.733333  0.831373   \n",
       "251  0.062745  0.066667  0.074510  0.066667  0.070588  0.075643  0.061485   \n",
       "252  0.313725  0.333333  0.254902  0.309804  0.333333  0.247059  0.300245   \n",
       "253  0.834926  0.831005  0.748652  0.843260  0.839338  0.756985  0.850368   \n",
       "254  0.709804  0.607843  0.076471  0.709804  0.607843  0.076471  0.705882   \n",
       "\n",
       "        7         8         9      ...     12278     12279     12280  \\\n",
       "0    0.495247  0.277114  0.486439  ...  0.304596  0.165686  0.236769   \n",
       "1    0.247059  0.063113  0.208211  ...  0.474142  0.439216  0.439216   \n",
       "2    0.996078  0.996078  0.996078  ...  0.996078  0.996078  0.996078   \n",
       "3    0.998529  0.998529  0.998529  ...  0.998529  0.998529  0.998529   \n",
       "4    1.000000  1.000000  1.000000  ...  1.000000  1.000000  1.000000   \n",
       "..        ...       ...       ...  ...       ...       ...       ...   \n",
       "250  0.712868  0.693260  0.815686  ...  0.521936  0.406985  0.383456   \n",
       "251  0.074510  0.086275  0.062745  ...  0.105092  0.093321  0.089400   \n",
       "252  0.337745  0.231373  0.274755  ...  0.431373  0.907353  0.760784   \n",
       "253  0.846446  0.764093  0.854557  ...  0.786520  0.835294  0.857598   \n",
       "254  0.611765  0.078431  0.709804  ...  0.222227  0.376471  0.261535   \n",
       "\n",
       "        12281     12282     12283     12284     12285     12286     12287  \n",
       "0    0.279906  0.104255  0.161945  0.214553  0.166360  0.201654  0.241360  \n",
       "1    0.438848  0.435294  0.443137  0.439216  0.447059  0.454902  0.450980  \n",
       "2    0.996078  0.996078  0.996078  0.996078  0.996078  0.996078  0.996078  \n",
       "3    0.998529  0.998529  0.998529  0.998529  0.998529  0.998529  0.998529  \n",
       "4    1.000000  1.000000  1.000000  1.000000  1.000000  1.000000  1.000000  \n",
       "..        ...       ...       ...       ...       ...       ...       ...  \n",
       "250  0.583456  0.480270  0.443137  0.631373  0.383088  0.339951  0.456373  \n",
       "251  0.090196  0.117647  0.097243  0.097243  0.091881  0.083696  0.081899  \n",
       "252  0.435294  0.404902  0.397549  0.232843  0.197794  0.235294  0.141176  \n",
       "253  0.798162  0.839216  0.866552  0.803807  0.843099  0.870550  0.807805  \n",
       "254  0.214476  0.369470  0.255744  0.203922  0.370588  0.246032  0.196078  \n",
       "\n",
       "[255 rows x 12288 columns]"
      ]
     },
     "execution_count": 9,
     "metadata": {},
     "output_type": "execute_result"
    }
   ],
   "source": [
    "df"
   ]
  },
  {
   "cell_type": "code",
   "execution_count": 10,
   "metadata": {},
   "outputs": [],
   "source": [
    "df['target']=image_dataset.target"
   ]
  },
  {
   "cell_type": "code",
   "execution_count": 11,
   "metadata": {},
   "outputs": [
    {
     "data": {
      "text/html": [
       "<div>\n",
       "<style scoped>\n",
       "    .dataframe tbody tr th:only-of-type {\n",
       "        vertical-align: middle;\n",
       "    }\n",
       "\n",
       "    .dataframe tbody tr th {\n",
       "        vertical-align: top;\n",
       "    }\n",
       "\n",
       "    .dataframe thead th {\n",
       "        text-align: right;\n",
       "    }\n",
       "</style>\n",
       "<table border=\"1\" class=\"dataframe\">\n",
       "  <thead>\n",
       "    <tr style=\"text-align: right;\">\n",
       "      <th></th>\n",
       "      <th>0</th>\n",
       "      <th>1</th>\n",
       "      <th>2</th>\n",
       "      <th>3</th>\n",
       "      <th>4</th>\n",
       "      <th>5</th>\n",
       "      <th>6</th>\n",
       "      <th>7</th>\n",
       "      <th>8</th>\n",
       "      <th>9</th>\n",
       "      <th>...</th>\n",
       "      <th>12279</th>\n",
       "      <th>12280</th>\n",
       "      <th>12281</th>\n",
       "      <th>12282</th>\n",
       "      <th>12283</th>\n",
       "      <th>12284</th>\n",
       "      <th>12285</th>\n",
       "      <th>12286</th>\n",
       "      <th>12287</th>\n",
       "      <th>target</th>\n",
       "    </tr>\n",
       "  </thead>\n",
       "  <tbody>\n",
       "    <tr>\n",
       "      <th>0</th>\n",
       "      <td>0.568168</td>\n",
       "      <td>0.557855</td>\n",
       "      <td>0.273058</td>\n",
       "      <td>0.547239</td>\n",
       "      <td>0.540200</td>\n",
       "      <td>0.271906</td>\n",
       "      <td>0.506036</td>\n",
       "      <td>0.495247</td>\n",
       "      <td>0.277114</td>\n",
       "      <td>0.486439</td>\n",
       "      <td>...</td>\n",
       "      <td>0.165686</td>\n",
       "      <td>0.236769</td>\n",
       "      <td>0.279906</td>\n",
       "      <td>0.104255</td>\n",
       "      <td>0.161945</td>\n",
       "      <td>0.214553</td>\n",
       "      <td>0.166360</td>\n",
       "      <td>0.201654</td>\n",
       "      <td>0.241360</td>\n",
       "      <td>0</td>\n",
       "    </tr>\n",
       "    <tr>\n",
       "      <th>1</th>\n",
       "      <td>0.156863</td>\n",
       "      <td>0.180760</td>\n",
       "      <td>0.066667</td>\n",
       "      <td>0.184314</td>\n",
       "      <td>0.227819</td>\n",
       "      <td>0.054902</td>\n",
       "      <td>0.200000</td>\n",
       "      <td>0.247059</td>\n",
       "      <td>0.063113</td>\n",
       "      <td>0.208211</td>\n",
       "      <td>...</td>\n",
       "      <td>0.439216</td>\n",
       "      <td>0.439216</td>\n",
       "      <td>0.438848</td>\n",
       "      <td>0.435294</td>\n",
       "      <td>0.443137</td>\n",
       "      <td>0.439216</td>\n",
       "      <td>0.447059</td>\n",
       "      <td>0.454902</td>\n",
       "      <td>0.450980</td>\n",
       "      <td>0</td>\n",
       "    </tr>\n",
       "    <tr>\n",
       "      <th>2</th>\n",
       "      <td>0.996078</td>\n",
       "      <td>0.996078</td>\n",
       "      <td>0.996078</td>\n",
       "      <td>0.996078</td>\n",
       "      <td>0.996078</td>\n",
       "      <td>0.996078</td>\n",
       "      <td>0.996078</td>\n",
       "      <td>0.996078</td>\n",
       "      <td>0.996078</td>\n",
       "      <td>0.996078</td>\n",
       "      <td>...</td>\n",
       "      <td>0.996078</td>\n",
       "      <td>0.996078</td>\n",
       "      <td>0.996078</td>\n",
       "      <td>0.996078</td>\n",
       "      <td>0.996078</td>\n",
       "      <td>0.996078</td>\n",
       "      <td>0.996078</td>\n",
       "      <td>0.996078</td>\n",
       "      <td>0.996078</td>\n",
       "      <td>0</td>\n",
       "    </tr>\n",
       "    <tr>\n",
       "      <th>3</th>\n",
       "      <td>0.998529</td>\n",
       "      <td>0.998529</td>\n",
       "      <td>0.998529</td>\n",
       "      <td>0.998529</td>\n",
       "      <td>0.998529</td>\n",
       "      <td>0.998529</td>\n",
       "      <td>0.998529</td>\n",
       "      <td>0.998529</td>\n",
       "      <td>0.998529</td>\n",
       "      <td>0.998529</td>\n",
       "      <td>...</td>\n",
       "      <td>0.998529</td>\n",
       "      <td>0.998529</td>\n",
       "      <td>0.998529</td>\n",
       "      <td>0.998529</td>\n",
       "      <td>0.998529</td>\n",
       "      <td>0.998529</td>\n",
       "      <td>0.998529</td>\n",
       "      <td>0.998529</td>\n",
       "      <td>0.998529</td>\n",
       "      <td>0</td>\n",
       "    </tr>\n",
       "    <tr>\n",
       "      <th>4</th>\n",
       "      <td>1.000000</td>\n",
       "      <td>1.000000</td>\n",
       "      <td>1.000000</td>\n",
       "      <td>1.000000</td>\n",
       "      <td>1.000000</td>\n",
       "      <td>1.000000</td>\n",
       "      <td>1.000000</td>\n",
       "      <td>1.000000</td>\n",
       "      <td>1.000000</td>\n",
       "      <td>1.000000</td>\n",
       "      <td>...</td>\n",
       "      <td>1.000000</td>\n",
       "      <td>1.000000</td>\n",
       "      <td>1.000000</td>\n",
       "      <td>1.000000</td>\n",
       "      <td>1.000000</td>\n",
       "      <td>1.000000</td>\n",
       "      <td>1.000000</td>\n",
       "      <td>1.000000</td>\n",
       "      <td>1.000000</td>\n",
       "      <td>0</td>\n",
       "    </tr>\n",
       "  </tbody>\n",
       "</table>\n",
       "<p>5 rows × 12289 columns</p>\n",
       "</div>"
      ],
      "text/plain": [
       "          0         1         2         3         4         5         6  \\\n",
       "0  0.568168  0.557855  0.273058  0.547239  0.540200  0.271906  0.506036   \n",
       "1  0.156863  0.180760  0.066667  0.184314  0.227819  0.054902  0.200000   \n",
       "2  0.996078  0.996078  0.996078  0.996078  0.996078  0.996078  0.996078   \n",
       "3  0.998529  0.998529  0.998529  0.998529  0.998529  0.998529  0.998529   \n",
       "4  1.000000  1.000000  1.000000  1.000000  1.000000  1.000000  1.000000   \n",
       "\n",
       "          7         8         9  ...     12279     12280     12281     12282  \\\n",
       "0  0.495247  0.277114  0.486439  ...  0.165686  0.236769  0.279906  0.104255   \n",
       "1  0.247059  0.063113  0.208211  ...  0.439216  0.439216  0.438848  0.435294   \n",
       "2  0.996078  0.996078  0.996078  ...  0.996078  0.996078  0.996078  0.996078   \n",
       "3  0.998529  0.998529  0.998529  ...  0.998529  0.998529  0.998529  0.998529   \n",
       "4  1.000000  1.000000  1.000000  ...  1.000000  1.000000  1.000000  1.000000   \n",
       "\n",
       "      12283     12284     12285     12286     12287  target  \n",
       "0  0.161945  0.214553  0.166360  0.201654  0.241360       0  \n",
       "1  0.443137  0.439216  0.447059  0.454902  0.450980       0  \n",
       "2  0.996078  0.996078  0.996078  0.996078  0.996078       0  \n",
       "3  0.998529  0.998529  0.998529  0.998529  0.998529       0  \n",
       "4  1.000000  1.000000  1.000000  1.000000  1.000000       0  \n",
       "\n",
       "[5 rows x 12289 columns]"
      ]
     },
     "execution_count": 11,
     "metadata": {},
     "output_type": "execute_result"
    }
   ],
   "source": [
    "df.head()"
   ]
  },
  {
   "cell_type": "code",
   "execution_count": 12,
   "metadata": {},
   "outputs": [
    {
     "data": {
      "text/plain": [
       "<matplotlib.image.AxesImage at 0x7ffa688d59b0>"
      ]
     },
     "execution_count": 12,
     "metadata": {},
     "output_type": "execute_result"
    },
    {
     "data": {
      "image/png": "[encoded data removed]",
      "text/plain": [
       "<Figure size 432x288 with 1 Axes>"
      ]
     },
     "metadata": {
      "needs_background": "light"
     },
     "output_type": "display_data"
    }
   ],
   "source": [
    "plt.imshow(image_dataset.images[0])"
   ]
  },
  {
   "cell_type": "code",
   "execution_count": 13,
   "metadata": {},
   "outputs": [
    {
     "data": {
      "text/plain": [
       "(64, 64, 3)"
      ]
     },
     "execution_count": 13,
     "metadata": {},
     "output_type": "execute_result"
    }
   ],
   "source": [
    "image_dataset.images[0].shape"
   ]
  },
  {
   "cell_type": "code",
   "execution_count": 14,
   "metadata": {},
   "outputs": [
    {
     "data": {
      "text/plain": [
       "(255, 12288)"
      ]
     },
     "execution_count": 14,
     "metadata": {},
     "output_type": "execute_result"
    }
   ],
   "source": [
    "image_dataset.data.shape"
   ]
  },
  {
   "cell_type": "code",
   "execution_count": 16,
   "metadata": {},
   "outputs": [],
   "source": [
    "#n_componet=0.80 it will return the eigen vectors that have 80% variance in the datasetf\n",
    "mul_img_pca=PCA(n_components=0.8)"
   ]
  },
  {
   "cell_type": "code",
   "execution_count": 17,
   "metadata": {},
   "outputs": [
    {
     "data": {
      "text/plain": [
       "PCA(copy=True, iterated_power='auto', n_components=0.8, random_state=None,\n",
       "    svd_solver='auto', tol=0.0, whiten=False)"
      ]
     },
     "execution_count": 17,
     "metadata": {},
     "output_type": "execute_result"
    }
   ],
   "source": [
    "mul_img_pca.fit(image_dataset.data)"
   ]
  },
  {
   "cell_type": "code",
   "execution_count": 18,
   "metadata": {},
   "outputs": [
    {
     "data": {
      "text/plain": [
       "(29, 12288)"
      ]
     },
     "execution_count": 18,
     "metadata": {},
     "output_type": "execute_result"
    }
   ],
   "source": [
    "mul_img_pca.components_.shape"
   ]
  },
  {
   "cell_type": "code",
   "execution_count": 19,
   "metadata": {},
   "outputs": [
    {
     "data": {
      "text/plain": [
       "(255, 29)"
      ]
     },
     "execution_count": 19,
     "metadata": {},
     "output_type": "execute_result"
    }
   ],
   "source": [
    "componets=mul_img_pca.transform(image_dataset.data)\n",
    "componets.shape"
   ]
  },
  {
   "cell_type": "code",
   "execution_count": 20,
   "metadata": {},
   "outputs": [
    {
     "data": {
      "text/plain": [
       "array([[  5.71707236,  -6.35157055,  -0.34088569, ...,  -1.82476156,\n",
       "          1.90637029,   2.3275583 ],\n",
       "       [  9.94882931,  -1.24949876,   3.48817165, ...,  -1.10436822,\n",
       "         -1.14882616,   1.23692665],\n",
       "       [-24.73349656,   4.78013018,  13.47334964, ...,   2.64822892,\n",
       "         -1.09360193,   5.69311729],\n",
       "       ...,\n",
       "       [ 18.73564255,   1.78234464,  -8.688191  , ...,  -2.05122296,\n",
       "          1.03787873,   1.80276629],\n",
       "       [-22.17780453, -10.77174421,   8.83438156, ...,   1.90884293,\n",
       "          3.11502964,  -0.37637608],\n",
       "       [  9.03418194,   4.60470996,  -1.43402899, ...,   0.44315405,\n",
       "          1.96098505,  -2.89959109]])"
      ]
     },
     "execution_count": 20,
     "metadata": {},
     "output_type": "execute_result"
    }
   ],
   "source": [
    "componets"
   ]
  },
  {
   "cell_type": "code",
   "execution_count": 21,
   "metadata": {},
   "outputs": [
    {
     "data": {
      "text/plain": [
       "(255, 12288)"
      ]
     },
     "execution_count": 21,
     "metadata": {},
     "output_type": "execute_result"
    }
   ],
   "source": [
    "projection=mul_img_pca.inverse_transform(componets)\n",
    "projection.shape"
   ]
  },
  {
   "cell_type": "code",
   "execution_count": 24,
   "metadata": {},
   "outputs": [
    {
     "name": "stderr",
     "output_type": "stream",
     "text": [
      "Clipping input data to the valid range for imshow with RGB data ([0..1] for floats or [0..255] for integers).\n",
      "Clipping input data to the valid range for imshow with RGB data ([0..1] for floats or [0..255] for integers).\n",
      "Clipping input data to the valid range for imshow with RGB data ([0..1] for floats or [0..255] for integers).\n",
      "Clipping input data to the valid range for imshow with RGB data ([0..1] for floats or [0..255] for integers).\n",
      "Clipping input data to the valid range for imshow with RGB data ([0..1] for floats or [0..255] for integers).\n",
      "Clipping input data to the valid range for imshow with RGB data ([0..1] for floats or [0..255] for integers).\n",
      "Clipping input data to the valid range for imshow with RGB data ([0..1] for floats or [0..255] for integers).\n",
      "Clipping input data to the valid range for imshow with RGB data ([0..1] for floats or [0..255] for integers).\n",
      "Clipping input data to the valid range for imshow with RGB data ([0..1] for floats or [0..255] for integers).\n",
      "Clipping input data to the valid range for imshow with RGB data ([0..1] for floats or [0..255] for integers).\n",
      "Clipping input data to the valid range for imshow with RGB data ([0..1] for floats or [0..255] for integers).\n",
      "Clipping input data to the valid range for imshow with RGB data ([0..1] for floats or [0..255] for integers).\n",
      "Clipping input data to the valid range for imshow with RGB data ([0..1] for floats or [0..255] for integers).\n",
      "Clipping input data to the valid range for imshow with RGB data ([0..1] for floats or [0..255] for integers).\n",
      "Clipping input data to the valid range for imshow with RGB data ([0..1] for floats or [0..255] for integers).\n",
      "Clipping input data to the valid range for imshow with RGB data ([0..1] for floats or [0..255] for integers).\n",
      "Clipping input data to the valid range for imshow with RGB data ([0..1] for floats or [0..255] for integers).\n",
      "Clipping input data to the valid range for imshow with RGB data ([0..1] for floats or [0..255] for integers).\n",
      "Clipping input data to the valid range for imshow with RGB data ([0..1] for floats or [0..255] for integers).\n",
      "Clipping input data to the valid range for imshow with RGB data ([0..1] for floats or [0..255] for integers).\n"
     ]
    },
    {
     "data": {
      "image/png": "[encoded data removed]",
      "text/plain": [
       "<Figure size 648x216 with 20 Axes>"
      ]
     },
     "metadata": {},
     "output_type": "display_data"
    }
   ],
   "source": [
    "fig,axes=plt.subplots(2,10,\n",
    "                     figsize=(9,3),subplot_kw={'xticks':[],'yticks':[]},\n",
    "                    gridspec_kw=dict(hspace=0.01,wspace=0.01))\n",
    "for i,ax in enumerate(axes.flat):\n",
    "    ax.imshow(mul_img_pca.components_[i].reshape(64,64,3))"
   ]
  },
  {
   "cell_type": "code",
   "execution_count": null,
   "metadata": {},
   "outputs": [],
   "source": []
  }
 ],
 "metadata": {
  "kernelspec": {
   "display_name": "Python 3",
   "language": "python",
   "name": "python3"
  },
  "language_info": {
   "codemirror_mode": {
    "name": "ipython",
    "version": 3
   },
   "file_extension": ".py",
   "mimetype": "text/x-python",
   "name": "python",
   "nbconvert_exporter": "python",
   "pygments_lexer": "ipython3",
   "version": "3.6.9"
  }
 },
 "nbformat": 4,
 "nbformat_minor": 4
}
